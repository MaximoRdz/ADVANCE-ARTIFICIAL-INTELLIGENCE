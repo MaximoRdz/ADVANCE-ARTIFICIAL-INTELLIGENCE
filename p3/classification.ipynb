{
 "cells": [
  {
   "cell_type": "markdown",
   "metadata": {},
   "source": [
    "# Topic Classification\n",
    "---\n",
    "\n",
    "The objective of this task is to perform document topic analysis using a dataset of English-language news articles to classify them into five distinct categories using a supervised learning model. \n",
    "\n",
    "To achieve this, a multi-class classifier is built to predict the category to which a given document belongs. The model is trained on a labeled dataset where each document is associated with one of the five predefined topics.\n",
    "\n",
    "The performance of the model is evaluated using cross-validation results and an independent test set. This approach allows us to assess the model’s generalization ability and its effectiveness in accurately classifying unseen documents."
   ]
  },
  {
   "cell_type": "code",
   "execution_count": null,
   "metadata": {},
   "outputs": [],
   "source": [
    "import pandas as pd\n",
    "import numpy as np\n",
    "\n",
    "import torch\n",
    "from transformers import AutoModelForSequenceClassification, AutoTokenizer, DataCollatorWithPadding, AdamW, get_scheduler\n",
    "from datasets import Dataset, DatasetDict\n",
    "\n",
    "import matplotlib.pyplot as plt\n",
    "\n",
    "import os\n",
    "import zipfile\n",
    "from tqdm.auto import tqdm\n",
    "\n",
    "from sklearn.metrics import classification_report, confusion_matrix, ConfusionMatrixDisplay, f1_score"
   ]
  },
  {
   "cell_type": "code",
   "execution_count": 2,
   "metadata": {},
   "outputs": [
    {
     "name": "stdout",
     "output_type": "stream",
     "text": [
      "Device count: 1\n",
      "Current device: 0\n",
      "NVIDIA GeForce RTX 3090\n"
     ]
    }
   ],
   "source": [
    "os.environ[\"CUDA_VISIBLE_DEVICES\"] = \"0\"\n",
    "\n",
    "device = torch.device(\"cuda:0\" if torch.cuda.is_available() else \"cpu\")\n",
    "\n",
    "if torch.cuda.is_available():\n",
    "    print(\"Device count:\", torch.cuda.device_count())\n",
    "    print(\"Current device:\", torch.cuda.current_device())\n",
    "    for i in range(torch.cuda.device_count()):\n",
    "        print(torch.cuda.get_device_name(i))"
   ]
  },
  {
   "cell_type": "markdown",
   "metadata": {},
   "source": [
    "## Exploratory Data Analysis (EDA)"
   ]
  },
  {
   "cell_type": "markdown",
   "metadata": {},
   "source": [
    "### Dataset"
   ]
  },
  {
   "cell_type": "markdown",
   "metadata": {},
   "source": [
    "For this practice, a dataset derived from the \"BBC Full Text Document Classification\" has been used. The dataset consists of 2225 news articles sourced from the BBC News website, covering the years 2004 and 2005. Each document is categorized into one of five predefined classes: \n",
    "- Business.\n",
    "- Entertainment.\n",
    "- Politics.\n",
    "- Sport.\n",
    "- Tech.\n",
    "\n",
    "From the dataset, a total of 2015 articles have been used for training and the remaining 210 articles for test."
   ]
  },
  {
   "cell_type": "code",
   "execution_count": null,
   "metadata": {
    "vscode": {
     "languageId": "plaintext"
    }
   },
   "outputs": [],
   "source": [
    "data_path = \"./data/\"\n",
    "train_zip = data_path + \"bbc-train.zip\"\n",
    "test_zip = data_path + \"bbc-test.zip\"\n",
    "\n",
    "train_path = data_path + \"bbc-train\"\n",
    "test_path= data_path + \"bbc-test\""
   ]
  },
  {
   "cell_type": "code",
   "execution_count": 4,
   "metadata": {},
   "outputs": [],
   "source": [
    "# Reproducibility\n",
    "seed = 42\n",
    "torch.manual_seed(seed)\n",
    "np.random.seed(seed)"
   ]
  },
  {
   "cell_type": "code",
   "execution_count": 5,
   "metadata": {},
   "outputs": [],
   "source": [
    "# Unzip data files\n",
    "if not os.path.exists(train_path):\n",
    "    with zipfile.ZipFile(train_zip, 'r') as zip_ref:\n",
    "        zip_ref.extractall(data_path)\n",
    "        print(\"Unzipped train data\")\n",
    "\n",
    "if not os.path.exists(test_path):\n",
    "    with zipfile.ZipFile(test_zip, 'r') as zip_ref:\n",
    "        zip_ref.extractall(data_path)\n",
    "        print(\"Unzipped test data\")"
   ]
  },
  {
   "cell_type": "markdown",
   "metadata": {},
   "source": [
    "### Train data"
   ]
  },
  {
   "cell_type": "code",
   "execution_count": 6,
   "metadata": {},
   "outputs": [
    {
     "name": "stdout",
     "output_type": "stream",
     "text": [
      "Number of train documents: 2015\n",
      "Label names: ['business', 'entertainment', 'politics', 'sports', 'tech']\n",
      "Label counts: [460, 356, 377, 461, 361]\n"
     ]
    }
   ],
   "source": [
    "class_names = sorted(x for x in os.listdir(train_path) if os.path.isdir(os.path.join(train_path, x)))\n",
    "num_class = len(class_names)\n",
    "train_files = [\n",
    "    [os.path.join(train_path, class_names[i], x) for x in os.listdir(os.path.join(train_path, class_names[i]))]\n",
    "    for i in range(num_class)\n",
    "]\n",
    "num_each = [len(train_files[i]) for i in range(num_class)]\n",
    "train_files_list = []\n",
    "train_classes = []\n",
    "for i in range(num_class):\n",
    "    train_files_list.extend(train_files[i])\n",
    "    train_classes.extend([i] * num_each[i])\n",
    "num_total = len(train_classes)\n",
    "\n",
    "print(f\"Number of train documents: {num_total}\")\n",
    "print(f\"Label names: {class_names}\")\n",
    "print(f\"Label counts: {num_each}\")"
   ]
  },
  {
   "cell_type": "markdown",
   "metadata": {},
   "source": [
    "### Test data"
   ]
  },
  {
   "cell_type": "code",
   "execution_count": 7,
   "metadata": {},
   "outputs": [
    {
     "name": "stdout",
     "output_type": "stream",
     "text": [
      "Number of test documents: 210\n",
      "Label names: ['business', 'entertainment', 'politics', 'sports', 'tech']\n",
      "Label counts: [50, 30, 40, 50, 40]\n"
     ]
    }
   ],
   "source": [
    "test_files = [\n",
    "    [os.path.join(test_path, class_names[i], x) for x in os.listdir(os.path.join(test_path, class_names[i]))]\n",
    "    for i in range(num_class)\n",
    "]\n",
    "num_each = [len(test_files[i]) for i in range(num_class)]\n",
    "test_files_list = []\n",
    "test_classes = []\n",
    "for i in range(num_class):\n",
    "    test_files_list.extend(test_files[i])\n",
    "    test_classes.extend([i] * num_each[i])\n",
    "num_total = len(test_classes)\n",
    "\n",
    "print(f\"Number of test documents: {num_total}\")\n",
    "print(f\"Label names: {class_names}\")\n",
    "print(f\"Label counts: {num_each}\")"
   ]
  },
  {
   "cell_type": "code",
   "execution_count": 8,
   "metadata": {},
   "outputs": [
    {
     "name": "stdout",
     "output_type": "stream",
     "text": [
      "Train data: 90.56%\n",
      "Test data: 9.44%\n"
     ]
    },
    {
     "data": {
      "image/png": "[encoded data removed]",
      "text/plain": [
       "<Figure size 1500x500 with 2 Axes>"
      ]
     },
     "metadata": {},
     "output_type": "display_data"
    }
   ],
   "source": [
    "# Percentage of test and train data\n",
    "train_percent = len(train_files_list) / (len(train_files_list) + len(test_files_list))\n",
    "test_percent = len(test_files_list) / (len(train_files_list) + len(test_files_list))\n",
    "print(f\"Train data: {train_percent * 100:.2f}%\")\n",
    "print(f\"Test data: {test_percent * 100:.2f}%\")\n",
    "\n",
    "# Plot class distribution\n",
    "plt.figure(figsize=(15, 5))\n",
    "plt.subplot(1, 2, 1)\n",
    "plt.bar(class_names, [len(train_files[i]) for i in range(num_class)])\n",
    "plt.title(\"Train class distribution\")\n",
    "plt.subplot(1, 2, 2)\n",
    "plt.bar(class_names, [len(test_files[i]) for i in range(num_class)])\n",
    "plt.title(\"Test class distribution\")\n",
    "plt.show()"
   ]
  },
  {
   "cell_type": "markdown",
   "metadata": {},
   "source": [
    "As it can be seen, the dataset is a bit unbalanced when it comes to the number of articles per class, with the business class having the most samples and the entertainment the fewest. Nonetheless, the difference is not significant and does not affect the results of the model."
   ]
  },
  {
   "cell_type": "code",
   "execution_count": 9,
   "metadata": {},
   "outputs": [
    {
     "name": "stdout",
     "output_type": "stream",
     "text": [
      "File name: ./data/bbc-train/business/461.txt\n",
      "\n",
      "Beijingers fume over parking fees\n",
      "\n",
      "Choking traffic jams in Beijing are prompting officials to look at reorganising car parking charges.\n",
      "\n",
      "Car ownership has risen fast in recent years, and there are now two and a half million cars on the city's roads. The trouble is that the high status of car ownership is matched by expensive fees at indoor car parks, making motorists reluctant to use them. Instead roads are being clogged by drivers circling in search of a cheaper outdoor option. \"The price differences between indoor and outdoor lots are unreasonable,\" said Wang Yan, an official from the Beijing Municipal Commission for Development and Reform quoted in the state-run China Daily newspaper. Mr Wang, who is in charge of collecting car parking fees, said his team would be looking at adjusting parking prices to close the gap. Indoor parking bays can cost up to 250% more than outdoor ones.\n",
      "\n",
      "Sports fans who drive to matches may also find themselves the target of the commission's road rage. It wants them to use public transport, and is considering jacking up the prices of car parks near sports grounds. Mr Wang said his review team may scrap the relatively cheap hourly fee near such places and impose a higher flat rate during matches. Indoor parking may be costly, but it is not always secure. Mr Wang's team are also going to look into complaints from residents about poor service received in exchange for compulsory monthly fees of up to 400 yuan ($48; £26). The Beijing authorities decided two years ago that visiting foreign dignitaries' motorcades should not longer get motorcycle outriders as they blocked the traffic. Unclogging Beijing's increasingly impassable streets is a major concern for the Chinese authorities, who are building dozens of new roads to create a showcase modern city ahead of the 2008 Olympic Games.\n",
      "\n"
     ]
    }
   ],
   "source": [
    "# Read example train file\n",
    "print(\"File name:\", train_files_list[0])\n",
    "print()\n",
    "with open(train_files_list[0], \"r\") as f:\n",
    "    print(f.read())"
   ]
  },
  {
   "cell_type": "markdown",
   "metadata": {},
   "source": [
    "As observed in the example article above, each file in the dataset follows a consistent structure. The first row contains a header, typically representing the article's title, while the remaining lines form the main body of the text. "
   ]
  },
  {
   "cell_type": "markdown",
   "metadata": {},
   "source": [
    "### Create Datasets"
   ]
  },
  {
   "cell_type": "code",
   "execution_count": 10,
   "metadata": {},
   "outputs": [
    {
     "name": "stdout",
     "output_type": "stream",
     "text": [
      "Error reading file: ./data/bbc-train/sports/199.txt\n"
     ]
    }
   ],
   "source": [
    "train_texts = []\n",
    "train_labels = []\n",
    "train_ids = []\n",
    "for file in train_files_list:\n",
    "    with open(file, \"r\") as f:\n",
    "        try:\n",
    "            text = f.read()\n",
    "            train_texts.append(text)\n",
    "            label = file.split(\"/\")[-2]\n",
    "            train_labels.append(class_names.index(label))\n",
    "            train_ids.append(file.split(\"/\")[-1])\n",
    "        except:\n",
    "            print(\"Error reading file:\", file)\n",
    "\n",
    "test_texts = []\n",
    "test_labels = []\n",
    "test_ids = []\n",
    "for file in test_files_list:\n",
    "    with open(file, \"r\") as f:\n",
    "        try:\n",
    "            text = f.read()\n",
    "            test_texts.append(text)\n",
    "            label = file.split(\"/\")[-2]\n",
    "            test_labels.append(class_names.index(label))\n",
    "            test_ids.append(file.split(\"/\")[-1])\n",
    "        except:\n",
    "            print(\"Error reading file:\", file)\n",
    "\n",
    "train_df = pd.DataFrame({\"id\": train_ids, \"text\": train_texts, \"label\": train_labels})\n",
    "test_df = pd.DataFrame({\"id\": test_ids, \"text\": test_texts, \"label\": test_labels})"
   ]
  },
  {
   "cell_type": "code",
   "execution_count": 11,
   "metadata": {},
   "outputs": [
    {
     "name": "stdout",
     "output_type": "stream",
     "text": [
      "<class 'pandas.core.frame.DataFrame'>\n",
      "RangeIndex: 2014 entries, 0 to 2013\n",
      "Data columns (total 3 columns):\n",
      " #   Column  Non-Null Count  Dtype \n",
      "---  ------  --------------  ----- \n",
      " 0   id      2014 non-null   object\n",
      " 1   text    2014 non-null   object\n",
      " 2   label   2014 non-null   int64 \n",
      "dtypes: int64(1), object(2)\n",
      "memory usage: 47.3+ KB\n"
     ]
    }
   ],
   "source": [
    "train_df.info()"
   ]
  },
  {
   "cell_type": "code",
   "execution_count": 12,
   "metadata": {},
   "outputs": [
    {
     "name": "stdout",
     "output_type": "stream",
     "text": [
      "<class 'pandas.core.frame.DataFrame'>\n",
      "RangeIndex: 210 entries, 0 to 209\n",
      "Data columns (total 3 columns):\n",
      " #   Column  Non-Null Count  Dtype \n",
      "---  ------  --------------  ----- \n",
      " 0   id      210 non-null    object\n",
      " 1   text    210 non-null    object\n",
      " 2   label   210 non-null    int64 \n",
      "dtypes: int64(1), object(2)\n",
      "memory usage: 5.0+ KB\n"
     ]
    }
   ],
   "source": [
    "test_df.info()"
   ]
  },
  {
   "cell_type": "code",
   "execution_count": 13,
   "metadata": {},
   "outputs": [
    {
     "data": {
      "text/plain": [
       "label\n",
       "0    460\n",
       "3    460\n",
       "2    377\n",
       "4    361\n",
       "1    356\n",
       "Name: count, dtype: int64"
      ]
     },
     "execution_count": 13,
     "metadata": {},
     "output_type": "execute_result"
    }
   ],
   "source": [
    "train_df[\"label\"].value_counts()"
   ]
  },
  {
   "cell_type": "code",
   "execution_count": 14,
   "metadata": {},
   "outputs": [
    {
     "data": {
      "text/plain": [
       "label\n",
       "0    50\n",
       "3    50\n",
       "2    40\n",
       "4    40\n",
       "1    30\n",
       "Name: count, dtype: int64"
      ]
     },
     "execution_count": 14,
     "metadata": {},
     "output_type": "execute_result"
    }
   ],
   "source": [
    "test_df[\"label\"].value_counts()"
   ]
  },
  {
   "cell_type": "markdown",
   "metadata": {},
   "source": [
    "---"
   ]
  },
  {
   "cell_type": "markdown",
   "metadata": {},
   "source": [
    "## Preprocessing"
   ]
  },
  {
   "cell_type": "code",
   "execution_count": 15,
   "metadata": {},
   "outputs": [
    {
     "data": {
      "text/plain": [
       "DatasetDict({\n",
       "    train: Dataset({\n",
       "        features: ['id', 'text', 'label'],\n",
       "        num_rows: 2014\n",
       "    })\n",
       "    test: Dataset({\n",
       "        features: ['id', 'text', 'label'],\n",
       "        num_rows: 210\n",
       "    })\n",
       "})"
      ]
     },
     "execution_count": 15,
     "metadata": {},
     "output_type": "execute_result"
    }
   ],
   "source": [
    "train_dataset = Dataset.from_pandas(train_df)\n",
    "test_dataset = Dataset.from_pandas(test_df)\n",
    "\n",
    "raw_datasets = DatasetDict({\"train\": train_dataset, \"test\": test_dataset})\n",
    "raw_datasets"
   ]
  },
  {
   "cell_type": "markdown",
   "metadata": {},
   "source": [
    "### Load Pre-Trained **BERT** Model"
   ]
  },
  {
   "cell_type": "markdown",
   "metadata": {},
   "source": [
    "For this project, we utilized **BERT (Bidirectional Encoder Representations from Transformers)**, specifically the BERT-Base Uncased model provided by Google. BERT is a transformer-based language model that excels in understanding contextual relationships between words by considering both their left and right contexts.\n",
    "\n",
    "We employed the \"bert-base-uncased\" variant, which consists of 12 transformer layers, 768 hidden units per layer, and 12 attention heads. This model is pre-trained on a large corpus of English text using masked language modeling (MLM) and next sentence prediction (NSP), allowing it to generate high-quality contextual embeddings for downstream tasks like text classification.\n",
    "\n",
    "In our implementation:\n",
    "\n",
    "- We defined *id2label* and *label2id* mappings to associate numerical class indices with their corresponding category names.\n",
    "\n",
    "- We instantiated AutoModelForSequenceClassification from the Hugging Face Transformers library, loading the pre-trained BERT model while specifying the number of output labels. This allows the model to classify input documents into the predefined categories.\n",
    "\n",
    "- The *AutoTokenizer* was used to convert text into tokenized inputs suitable for BERT."
   ]
  },
  {
   "cell_type": "code",
   "execution_count": 16,
   "metadata": {},
   "outputs": [
    {
     "name": "stdout",
     "output_type": "stream",
     "text": [
      "{0: 'business', 1: 'entertainment', 2: 'politics', 3: 'sports', 4: 'tech'}\n",
      "{'business': 0, 'entertainment': 1, 'politics': 2, 'sports': 3, 'tech': 4}\n"
     ]
    },
    {
     "name": "stderr",
     "output_type": "stream",
     "text": [
      "Some weights of BertForSequenceClassification were not initialized from the model checkpoint at google-bert/bert-base-uncased and are newly initialized: ['classifier.bias', 'classifier.weight']\n",
      "You should probably TRAIN this model on a down-stream task to be able to use it for predictions and inference.\n"
     ]
    },
    {
     "data": {
      "text/plain": [
       "BertForSequenceClassification(\n",
       "  (bert): BertModel(\n",
       "    (embeddings): BertEmbeddings(\n",
       "      (word_embeddings): Embedding(30522, 768, padding_idx=0)\n",
       "      (position_embeddings): Embedding(512, 768)\n",
       "      (token_type_embeddings): Embedding(2, 768)\n",
       "      (LayerNorm): LayerNorm((768,), eps=1e-12, elementwise_affine=True)\n",
       "      (dropout): Dropout(p=0.1, inplace=False)\n",
       "    )\n",
       "    (encoder): BertEncoder(\n",
       "      (layer): ModuleList(\n",
       "        (0-11): 12 x BertLayer(\n",
       "          (attention): BertAttention(\n",
       "            (self): BertSdpaSelfAttention(\n",
       "              (query): Linear(in_features=768, out_features=768, bias=True)\n",
       "              (key): Linear(in_features=768, out_features=768, bias=True)\n",
       "              (value): Linear(in_features=768, out_features=768, bias=True)\n",
       "              (dropout): Dropout(p=0.1, inplace=False)\n",
       "            )\n",
       "            (output): BertSelfOutput(\n",
       "              (dense): Linear(in_features=768, out_features=768, bias=True)\n",
       "              (LayerNorm): LayerNorm((768,), eps=1e-12, elementwise_affine=True)\n",
       "              (dropout): Dropout(p=0.1, inplace=False)\n",
       "            )\n",
       "          )\n",
       "          (intermediate): BertIntermediate(\n",
       "            (dense): Linear(in_features=768, out_features=3072, bias=True)\n",
       "            (intermediate_act_fn): GELUActivation()\n",
       "          )\n",
       "          (output): BertOutput(\n",
       "            (dense): Linear(in_features=3072, out_features=768, bias=True)\n",
       "            (LayerNorm): LayerNorm((768,), eps=1e-12, elementwise_affine=True)\n",
       "            (dropout): Dropout(p=0.1, inplace=False)\n",
       "          )\n",
       "        )\n",
       "      )\n",
       "    )\n",
       "    (pooler): BertPooler(\n",
       "      (dense): Linear(in_features=768, out_features=768, bias=True)\n",
       "      (activation): Tanh()\n",
       "    )\n",
       "  )\n",
       "  (dropout): Dropout(p=0.1, inplace=False)\n",
       "  (classifier): Linear(in_features=768, out_features=5, bias=True)\n",
       ")"
      ]
     },
     "execution_count": 16,
     "metadata": {},
     "output_type": "execute_result"
    }
   ],
   "source": [
    "MODEL_NAME = \"google-bert/bert-base-uncased\"\n",
    "\n",
    "id2label = {i: class_names[i] for i in range(num_class)}\n",
    "label2id = {class_names[i]: i for i in range(num_class)}\n",
    "print(id2label)\n",
    "print(label2id)\n",
    "\n",
    "model = AutoModelForSequenceClassification.from_pretrained(MODEL_NAME, num_labels=num_class, id2label=id2label, label2id=label2id)\n",
    "tokenizer = AutoTokenizer.from_pretrained(MODEL_NAME)\n",
    "\n",
    "model.to(device)"
   ]
  },
  {
   "cell_type": "markdown",
   "metadata": {},
   "source": [
    "### Tokenize Texts"
   ]
  },
  {
   "cell_type": "markdown",
   "metadata": {},
   "source": [
    "As mentioned before, part of the preprocessing consists on the tokenization of each text in the dataset. Additionally, the *DataCollatorWithPadding* ensures that all tokenized inputs have the same length by adding padding when necessary.\n",
    "Like this, each example includes:\n",
    "- **id**: Unique identifier for each entry.\n",
    "\n",
    "- **text**: The original text.\n",
    "\n",
    "- **label**: The class label.\n",
    "\n",
    "- **input_ids**: Tokenized text converted into numerical format.\n",
    "\n",
    "- **token_type_ids**: Indicates which tokens belong to which segment (useful in tasks like sentence-pair classification).\n",
    "\n",
    "- **attention_mask**: Specifies which tokens are actual words (1) and which are padding (0)."
   ]
  },
  {
   "cell_type": "code",
   "execution_count": 17,
   "metadata": {},
   "outputs": [
    {
     "data": {
      "application/vnd.jupyter.widget-view+json": {
       "model_id": "a4699cf0f844497189dfcade6a7c02dc",
       "version_major": 2,
       "version_minor": 0
      },
      "text/plain": [
       "Map:   0%|          | 0/2014 [00:00<?, ? examples/s]"
      ]
     },
     "metadata": {},
     "output_type": "display_data"
    },
    {
     "data": {
      "application/vnd.jupyter.widget-view+json": {
       "model_id": "9018d13703bb4e268c80bb74fcf9e5ce",
       "version_major": 2,
       "version_minor": 0
      },
      "text/plain": [
       "Map:   0%|          | 0/210 [00:00<?, ? examples/s]"
      ]
     },
     "metadata": {},
     "output_type": "display_data"
    }
   ],
   "source": [
    "def tokenize_function(example):\n",
    "    return tokenizer(example[\"text\"], truncation=True)\n",
    "\n",
    "# Tokenize dataset\n",
    "tokenized_datasets = raw_datasets.map(tokenize_function, batched=True)\n",
    "data_collator = DataCollatorWithPadding(tokenizer=tokenizer)"
   ]
  },
  {
   "cell_type": "code",
   "execution_count": 18,
   "metadata": {},
   "outputs": [
    {
     "name": "stdout",
     "output_type": "stream",
     "text": [
      "DatasetDict({\n",
      "    train: Dataset({\n",
      "        features: ['id', 'text', 'label', 'input_ids', 'token_type_ids', 'attention_mask'],\n",
      "        num_rows: 2014\n",
      "    })\n",
      "    test: Dataset({\n",
      "        features: ['id', 'text', 'label', 'input_ids', 'token_type_ids', 'attention_mask'],\n",
      "        num_rows: 210\n",
      "    })\n",
      "})\n"
     ]
    }
   ],
   "source": [
    "print(tokenized_datasets)"
   ]
  },
  {
   "cell_type": "code",
   "execution_count": 19,
   "metadata": {},
   "outputs": [
    {
     "name": "stdout",
     "output_type": "stream",
     "text": [
      "[101, 7211, 2545, 11865, 4168, 2058, 5581, 9883, 18329, 4026, 9389, 2015, 1999, 7211, 2024, 15870, 4584, 2000, 2298, 2012, 2128, 21759, 7088, 7741, 2482, 5581, 5571, 1012, 2482, 6095, 2038, 13763, 3435, 1999, 3522, 2086, 1010, 1998, 2045, 2024, 2085, 2048, 1998, 1037, 2431, 2454, 3765, 2006, 1996, 2103, 1005, 1055, 4925, 1012, 1996, 4390, 2003, 2008, 1996, 2152, 3570, 1997, 2482, 6095, 2003, 10349, 2011, 6450, 9883, 2012, 7169, 2482, 6328, 1010, 2437, 5013, 5130, 11542, 2000, 2224, 2068, 1012, 2612, 4925, 2024, 2108, 18856, 8649, 5999, 2011, 6853, 18519, 1999, 3945, 1997, 1037, 16269, 7254, 5724, 1012, 1000, 1996, 3976, 5966, 2090, 7169, 1998, 7254, 7167, 2024, 29205, 1010, 1000, 2056, 7418, 13619, 1010, 2019, 2880, 2013, 1996, 7211, 4546, 3222, 2005, 2458, 1998, 5290, 9339, 1999, 1996, 2110, 1011, 2448, 2859, 3679, 3780, 1012, 2720, 7418, 1010, 2040, 2003, 1999, 3715, 1997, 9334, 2482, 5581, 9883, 1010, 2056, 2010, 2136, 2052, 2022, 2559, 2012, 19158, 5581, 7597, 2000, 2485, 1996, 6578, 1012, 7169, 5581, 13933, 2064, 3465, 2039, 2000, 5539, 1003, 2062, 2084, 7254, 3924, 1012, 2998, 4599, 2040, 3298, 2000, 3503, 2089, 2036, 2424, 3209, 1996, 4539, 1997, 1996, 3222, 1005, 1055, 2346, 7385, 1012, 2009, 4122, 2068, 2000, 2224, 2270, 3665, 1010, 1998, 2003, 6195, 2990, 2075, 2039, 1996, 7597, 1997, 2482, 6328, 2379, 2998, 5286, 1012, 2720, 7418, 2056, 2010, 3319, 2136, 2089, 15121, 1996, 4659, 10036, 21462, 7408, 2379, 2107, 3182, 1998, 17607, 1037, 3020, 4257, 3446, 2076, 3503, 1012, 7169, 5581, 2089, 2022, 17047, 1010, 2021, 2009, 2003, 2025, 2467, 5851, 1012, 2720, 7418, 1005, 1055, 2136, 2024, 2036, 2183, 2000, 2298, 2046, 10821, 2013, 3901, 2055, 3532, 2326, 2363, 1999, 3863, 2005, 14770, 7058, 9883, 1997, 2039, 2000, 4278, 11237, 1006, 1002, 4466, 1025, 21853, 2575, 1007, 1012, 1996, 7211, 4614, 2787, 2048, 2086, 3283, 2008, 5873, 3097, 27960, 1005, 5013, 21869, 2015, 2323, 2025, 2936, 2131, 9055, 2041, 28116, 2004, 2027, 8534, 1996, 4026, 1012, 4895, 20464, 8649, 4726, 7211, 1005, 1055, 6233, 17727, 12054, 3085, 4534, 2003, 1037, 2350, 5142, 2005, 1996, 2822, 4614, 1010, 2040, 2024, 2311, 9877, 1997, 2047, 4925, 2000, 3443, 1037, 13398, 2715, 2103, 3805, 1997, 1996, 2263, 4386, 2399, 1012, 102]\n",
      "['[CLS]', 'beijing', '##ers', 'fu', '##me', 'over', 'parking', 'fees', 'choking', 'traffic', 'jam', '##s', 'in', 'beijing', 'are', 'prompting', 'officials', 'to', 'look', 'at', 're', '##org', '##ani', '##sing', 'car', 'parking', 'charges', '.', 'car', 'ownership', 'has', 'risen', 'fast', 'in', 'recent', 'years', ',', 'and', 'there', 'are', 'now', 'two', 'and', 'a', 'half', 'million', 'cars', 'on', 'the', 'city', \"'\", 's', 'roads', '.', 'the', 'trouble', 'is', 'that', 'the', 'high', 'status', 'of', 'car', 'ownership', 'is', 'matched', 'by', 'expensive', 'fees', 'at', 'indoor', 'car', 'parks', ',', 'making', 'motor', '##ists', 'reluctant', 'to', 'use', 'them', '.', 'instead', 'roads', 'are', 'being', 'cl', '##og', '##ged', 'by', 'drivers', 'circling', 'in', 'search', 'of', 'a', 'cheaper', 'outdoor', 'option', '.', '\"', 'the', 'price', 'differences', 'between', 'indoor', 'and', 'outdoor', 'lots', 'are', 'unreasonable', ',', '\"', 'said', 'wang', 'yan', ',', 'an', 'official', 'from', 'the', 'beijing', 'municipal', 'commission', 'for', 'development', 'and', 'reform', 'quoted', 'in', 'the', 'state', '-', 'run', 'china', 'daily', 'newspaper', '.', 'mr', 'wang', ',', 'who', 'is', 'in', 'charge', 'of', 'collecting', 'car', 'parking', 'fees', ',', 'said', 'his', 'team', 'would', 'be', 'looking', 'at', 'adjusting', 'parking', 'prices', 'to', 'close', 'the', 'gap', '.', 'indoor', 'parking', 'bays', 'can', 'cost', 'up', 'to', '250', '%', 'more', 'than', 'outdoor', 'ones', '.', 'sports', 'fans', 'who', 'drive', 'to', 'matches', 'may', 'also', 'find', 'themselves', 'the', 'target', 'of', 'the', 'commission', \"'\", 's', 'road', 'rage', '.', 'it', 'wants', 'them', 'to', 'use', 'public', 'transport', ',', 'and', 'is', 'considering', 'jack', '##ing', 'up', 'the', 'prices', 'of', 'car', 'parks', 'near', 'sports', 'grounds', '.', 'mr', 'wang', 'said', 'his', 'review', 'team', 'may', 'scrap', 'the', 'relatively', 'cheap', 'hourly', 'fee', 'near', 'such', 'places', 'and', 'impose', 'a', 'higher', 'flat', 'rate', 'during', 'matches', '.', 'indoor', 'parking', 'may', 'be', 'costly', ',', 'but', 'it', 'is', 'not', 'always', 'secure', '.', 'mr', 'wang', \"'\", 's', 'team', 'are', 'also', 'going', 'to', 'look', 'into', 'complaints', 'from', 'residents', 'about', 'poor', 'service', 'received', 'in', 'exchange', 'for', 'compulsory', 'monthly', 'fees', 'of', 'up', 'to', '400', 'yuan', '(', '$', '48', ';', '£2', '##6', ')', '.', 'the', 'beijing', 'authorities', 'decided', 'two', 'years', 'ago', 'that', 'visiting', 'foreign', 'dignitaries', \"'\", 'motor', '##cade', '##s', 'should', 'not', 'longer', 'get', 'motorcycle', 'out', '##riders', 'as', 'they', 'blocked', 'the', 'traffic', '.', 'un', '##cl', '##og', '##ging', 'beijing', \"'\", 's', 'increasingly', 'imp', '##ass', '##able', 'streets', 'is', 'a', 'major', 'concern', 'for', 'the', 'chinese', 'authorities', ',', 'who', 'are', 'building', 'dozens', 'of', 'new', 'roads', 'to', 'create', 'a', 'showcase', 'modern', 'city', 'ahead', 'of', 'the', '2008', 'olympic', 'games', '.', '[SEP]']\n"
     ]
    }
   ],
   "source": [
    "# Tokenized dataset example\n",
    "input_ids = tokenized_datasets[\"train\"][0][\"input_ids\"]\n",
    "print(input_ids)\n",
    "# Id to tokens\n",
    "print(tokenizer.convert_ids_to_tokens(input_ids))"
   ]
  },
  {
   "cell_type": "markdown",
   "metadata": {},
   "source": [
    "### Remove unnecessary columns"
   ]
  },
  {
   "cell_type": "markdown",
   "metadata": {},
   "source": [
    "Since the model only needs tokenized inputs (*input_ids*, *token_type_ids*, *attention_mask*) and labels, *id* and *text* columns are removed."
   ]
  },
  {
   "cell_type": "code",
   "execution_count": 20,
   "metadata": {},
   "outputs": [
    {
     "data": {
      "text/plain": [
       "DatasetDict({\n",
       "    train: Dataset({\n",
       "        features: ['label', 'input_ids', 'token_type_ids', 'attention_mask'],\n",
       "        num_rows: 2014\n",
       "    })\n",
       "    test: Dataset({\n",
       "        features: ['label', 'input_ids', 'token_type_ids', 'attention_mask'],\n",
       "        num_rows: 210\n",
       "    })\n",
       "})"
      ]
     },
     "execution_count": 20,
     "metadata": {},
     "output_type": "execute_result"
    }
   ],
   "source": [
    "tokenized_datasets = tokenized_datasets.remove_columns(['id', 'text'])\n",
    "tokenized_datasets"
   ]
  },
  {
   "cell_type": "markdown",
   "metadata": {},
   "source": [
    "### Create Dataloaders"
   ]
  },
  {
   "cell_type": "code",
   "execution_count": 21,
   "metadata": {},
   "outputs": [
    {
     "name": "stdout",
     "output_type": "stream",
     "text": [
      "Train dataloader length: 252\n",
      "Test dataloader length: 27\n"
     ]
    }
   ],
   "source": [
    "from torch.utils.data import DataLoader\n",
    "\n",
    "train_dataloader = DataLoader(\n",
    "    tokenized_datasets[\"train\"], shuffle=True, batch_size=8, collate_fn=data_collator\n",
    ")\n",
    "test_dataloader = DataLoader(\n",
    "    tokenized_datasets[\"test\"], shuffle=False, batch_size=8, collate_fn=data_collator\n",
    ")\n",
    "\n",
    "print(\"Train dataloader length:\", len(train_dataloader))\n",
    "print(\"Test dataloader length:\", len(test_dataloader))"
   ]
  },
  {
   "cell_type": "code",
   "execution_count": 22,
   "metadata": {},
   "outputs": [
    {
     "data": {
      "text/plain": [
       "{'input_ids': torch.Size([8, 512]),\n",
       " 'token_type_ids': torch.Size([8, 512]),\n",
       " 'attention_mask': torch.Size([8, 512]),\n",
       " 'labels': torch.Size([8])}"
      ]
     },
     "execution_count": 22,
     "metadata": {},
     "output_type": "execute_result"
    }
   ],
   "source": [
    "for batch in train_dataloader:\n",
    "    break\n",
    "{k: v.shape for k, v in batch.items()}"
   ]
  },
  {
   "cell_type": "markdown",
   "metadata": {},
   "source": [
    "---"
   ]
  },
  {
   "cell_type": "markdown",
   "metadata": {},
   "source": [
    "## Fine-tuning"
   ]
  },
  {
   "cell_type": "code",
   "execution_count": 23,
   "metadata": {},
   "outputs": [],
   "source": [
    "# Hyperparameters\n",
    "LEARNING_RATE = 5e-5\n",
    "EPOCHS = 4"
   ]
  },
  {
   "cell_type": "markdown",
   "metadata": {},
   "source": [
    "### Train and Validate Functions"
   ]
  },
  {
   "cell_type": "code",
   "execution_count": 24,
   "metadata": {},
   "outputs": [],
   "source": [
    "def train(train_set, optimizer, lr_scheduler, progress_bar):\n",
    "    model.train()\n",
    "    epoch_train_loss = 0 \n",
    "    num_train_batches = 0\n",
    "\n",
    "    for batch in train_set:\n",
    "        batch = {k: v.to(device) for k, v in batch.items()}\n",
    "        \n",
    "        outputs = model(**batch)\n",
    "        loss = outputs.loss\n",
    "        loss.backward()\n",
    "\n",
    "        optimizer.step()\n",
    "        lr_scheduler.step()\n",
    "        optimizer.zero_grad()\n",
    "        \n",
    "        # Accumulate loss\n",
    "        epoch_train_loss += loss.item()\n",
    "        num_train_batches += 1\n",
    "\n",
    "        progress_bar.update(1)\n",
    "\n",
    "    # Compute average training loss for the epoch\n",
    "    avg_train_loss = epoch_train_loss / num_train_batches\n",
    "    \n",
    "    return avg_train_loss"
   ]
  },
  {
   "cell_type": "code",
   "execution_count": 25,
   "metadata": {},
   "outputs": [],
   "source": [
    "def validate(val_set):\n",
    "    model.eval()\n",
    "    epoch_val_loss = 0\n",
    "    num_val_batches = 0\n",
    "\n",
    "    y_pred_val = []\n",
    "    y_true_val = []\n",
    "\n",
    "    with torch.no_grad():\n",
    "        for batch in val_set:\n",
    "            batch = {k: v.to(device) for k, v in batch.items()}\n",
    "            outputs = model(**batch)\n",
    "            loss = outputs.loss\n",
    "\n",
    "            logits = outputs.logits\n",
    "            y_pred_val.extend(torch.argmax(logits, 1).tolist())\n",
    "            y_true_val.extend(batch[\"labels\"].tolist())\n",
    "\n",
    "            epoch_val_loss += loss.item()\n",
    "            num_val_batches += 1\n",
    "\n",
    "    avg_val_loss = epoch_val_loss / num_val_batches\n",
    "\n",
    "    return avg_val_loss, y_pred_val, y_true_val"
   ]
  },
  {
   "cell_type": "markdown",
   "metadata": {},
   "source": [
    "### Cross Validation\n",
    "\n",
    "To ensure the robustness and generalizability of our model while minimizing biases, we employed 5-fold cross-validation. \n",
    "\n",
    "This technique partitions the dataset into five equally sized subsets (folds), where, in each iteration, the model is trained on four folds and validated on the remaining one. The process is repeated until each fold has served as a validation set once, and the final performance is averaged across all folds. \n",
    "\n",
    "This approach provides a more reliable performance estimation than a single train-test split by reducing variance and mitigating the impact of data partitioning. We selected five folds as a balance between computational efficiency and statistical robustness. \n",
    "\n",
    "![image.png](https://miro.medium.com/v2/resize:fit:1400/1*5CYtLwuXE7bEFkW7D-1ENg.png)"
   ]
  },
  {
   "cell_type": "code",
   "execution_count": 26,
   "metadata": {},
   "outputs": [],
   "source": [
    "models_path = \"./models/\""
   ]
  },
  {
   "cell_type": "code",
   "execution_count": 27,
   "metadata": {},
   "outputs": [
    {
     "name": "stderr",
     "output_type": "stream",
     "text": [
      "Some weights of BertForSequenceClassification were not initialized from the model checkpoint at google-bert/bert-base-uncased and are newly initialized: ['classifier.bias', 'classifier.weight']\n",
      "You should probably TRAIN this model on a down-stream task to be able to use it for predictions and inference.\n"
     ]
    },
    {
     "name": "stdout",
     "output_type": "stream",
     "text": [
      "\n",
      "Fold: 0\n"
     ]
    },
    {
     "data": {
      "application/vnd.jupyter.widget-view+json": {
       "model_id": "f3ae1158a6cc42208fee14bce19b4f82",
       "version_major": 2,
       "version_minor": 0
      },
      "text/plain": [
       "Fold 0:   0%|          | 0/808 [00:00<?, ?it/s]"
      ]
     },
     "metadata": {},
     "output_type": "display_data"
    },
    {
     "name": "stdout",
     "output_type": "stream",
     "text": [
      "Epoch 1/4     | Train Loss: 0.3827     | Val Loss: 0.0942     | F1 Score: 0.9824\n",
      "Epoch 2/4     | Train Loss: 0.0825     | Val Loss: 0.0810     | F1 Score: 0.9790\n",
      "Epoch 3/4     | Train Loss: 0.0279     | Val Loss: 0.0680     | F1 Score: 0.9782\n",
      "Epoch 4/4     | Train Loss: 0.0097     | Val Loss: 0.0515     | F1 Score: 0.9866\n"
     ]
    },
    {
     "name": "stderr",
     "output_type": "stream",
     "text": [
      "Some weights of BertForSequenceClassification were not initialized from the model checkpoint at google-bert/bert-base-uncased and are newly initialized: ['classifier.bias', 'classifier.weight']\n",
      "You should probably TRAIN this model on a down-stream task to be able to use it for predictions and inference.\n"
     ]
    },
    {
     "name": "stdout",
     "output_type": "stream",
     "text": [
      "\n",
      "Fold: 1\n"
     ]
    },
    {
     "data": {
      "application/vnd.jupyter.widget-view+json": {
       "model_id": "49c4c675bb7744939e01c15a8c6a7b79",
       "version_major": 2,
       "version_minor": 0
      },
      "text/plain": [
       "Fold 1:   0%|          | 0/808 [00:00<?, ?it/s]"
      ]
     },
     "metadata": {},
     "output_type": "display_data"
    },
    {
     "name": "stdout",
     "output_type": "stream",
     "text": [
      "Epoch 1/4     | Train Loss: 0.3274     | Val Loss: 0.1031     | F1 Score: 0.9854\n",
      "Epoch 2/4     | Train Loss: 0.0707     | Val Loss: 0.0480     | F1 Score: 0.9869\n",
      "Epoch 3/4     | Train Loss: 0.0343     | Val Loss: 0.0990     | F1 Score: 0.9795\n",
      "Epoch 4/4     | Train Loss: 0.0137     | Val Loss: 0.0877     | F1 Score: 0.9821\n"
     ]
    },
    {
     "name": "stderr",
     "output_type": "stream",
     "text": [
      "Some weights of BertForSequenceClassification were not initialized from the model checkpoint at google-bert/bert-base-uncased and are newly initialized: ['classifier.bias', 'classifier.weight']\n",
      "You should probably TRAIN this model on a down-stream task to be able to use it for predictions and inference.\n"
     ]
    },
    {
     "name": "stdout",
     "output_type": "stream",
     "text": [
      "\n",
      "Fold: 2\n"
     ]
    },
    {
     "data": {
      "application/vnd.jupyter.widget-view+json": {
       "model_id": "025e3ca4636e4500acdb0b0ce67e11c4",
       "version_major": 2,
       "version_minor": 0
      },
      "text/plain": [
       "Fold 2:   0%|          | 0/808 [00:00<?, ?it/s]"
      ]
     },
     "metadata": {},
     "output_type": "display_data"
    },
    {
     "name": "stdout",
     "output_type": "stream",
     "text": [
      "Epoch 1/4     | Train Loss: 0.3155     | Val Loss: 0.1697     | F1 Score: 0.9523\n",
      "Epoch 2/4     | Train Loss: 0.0615     | Val Loss: 0.1581     | F1 Score: 0.9573\n",
      "Epoch 3/4     | Train Loss: 0.0206     | Val Loss: 0.1106     | F1 Score: 0.9736\n",
      "Epoch 4/4     | Train Loss: 0.0099     | Val Loss: 0.1256     | F1 Score: 0.9748\n"
     ]
    },
    {
     "name": "stderr",
     "output_type": "stream",
     "text": [
      "Some weights of BertForSequenceClassification were not initialized from the model checkpoint at google-bert/bert-base-uncased and are newly initialized: ['classifier.bias', 'classifier.weight']\n",
      "You should probably TRAIN this model on a down-stream task to be able to use it for predictions and inference.\n"
     ]
    },
    {
     "name": "stdout",
     "output_type": "stream",
     "text": [
      "\n",
      "Fold: 3\n"
     ]
    },
    {
     "data": {
      "application/vnd.jupyter.widget-view+json": {
       "model_id": "16f90e19571a4307a58127ec5c6ce1e2",
       "version_major": 2,
       "version_minor": 0
      },
      "text/plain": [
       "Fold 3:   0%|          | 0/808 [00:00<?, ?it/s]"
      ]
     },
     "metadata": {},
     "output_type": "display_data"
    },
    {
     "name": "stdout",
     "output_type": "stream",
     "text": [
      "Epoch 1/4     | Train Loss: 0.3315     | Val Loss: 0.1260     | F1 Score: 0.9724\n",
      "Epoch 2/4     | Train Loss: 0.0777     | Val Loss: 0.0937     | F1 Score: 0.9804\n",
      "Epoch 3/4     | Train Loss: 0.0354     | Val Loss: 0.1454     | F1 Score: 0.9707\n",
      "Epoch 4/4     | Train Loss: 0.0166     | Val Loss: 0.0917     | F1 Score: 0.9776\n"
     ]
    },
    {
     "name": "stderr",
     "output_type": "stream",
     "text": [
      "Some weights of BertForSequenceClassification were not initialized from the model checkpoint at google-bert/bert-base-uncased and are newly initialized: ['classifier.bias', 'classifier.weight']\n",
      "You should probably TRAIN this model on a down-stream task to be able to use it for predictions and inference.\n"
     ]
    },
    {
     "name": "stdout",
     "output_type": "stream",
     "text": [
      "\n",
      "Fold: 4\n"
     ]
    },
    {
     "data": {
      "application/vnd.jupyter.widget-view+json": {
       "model_id": "35eca4356a354bedbaa08bacfd02478b",
       "version_major": 2,
       "version_minor": 0
      },
      "text/plain": [
       "Fold 4:   0%|          | 0/808 [00:00<?, ?it/s]"
      ]
     },
     "metadata": {},
     "output_type": "display_data"
    },
    {
     "name": "stdout",
     "output_type": "stream",
     "text": [
      "Epoch 1/4     | Train Loss: 0.3913     | Val Loss: 0.1306     | F1 Score: 0.9671\n",
      "Epoch 2/4     | Train Loss: 0.0898     | Val Loss: 0.0556     | F1 Score: 0.9824\n",
      "Epoch 3/4     | Train Loss: 0.0412     | Val Loss: 0.0537     | F1 Score: 0.9901\n",
      "Epoch 4/4     | Train Loss: 0.0188     | Val Loss: 0.0388     | F1 Score: 0.9952\n"
     ]
    }
   ],
   "source": [
    "from sklearn.model_selection import KFold\n",
    "\n",
    "kf = KFold(n_splits=5, shuffle=True, random_state=seed)\n",
    "\n",
    "cross_train_losses = []\n",
    "cross_val_losses = []\n",
    "cross_val_f1_scores = []\n",
    "\n",
    "for fold, (train_index, val_index) in enumerate(kf.split(tokenized_datasets[\"train\"])):\n",
    "    print()\n",
    "    print(f\"Fold: {fold}\")\n",
    "    train_subset = torch.utils.data.Subset(tokenized_datasets[\"train\"], train_index)\n",
    "    val_subset = torch.utils.data.Subset(tokenized_datasets[\"train\"], val_index)\n",
    "    \n",
    "    train_set = DataLoader(train_subset, batch_size=8, collate_fn=data_collator, shuffle=True)\n",
    "    val_set = DataLoader(val_subset, batch_size=8, collate_fn=data_collator, shuffle=False)\n",
    "    \n",
    "    # Reset model weights\n",
    "    model = AutoModelForSequenceClassification.from_pretrained(MODEL_NAME, num_labels=num_class, id2label=id2label, label2id=label2id)\n",
    "    model.to(device)\n",
    "\n",
    "    optimizer = torch.optim.AdamW(model.parameters(), lr=LEARNING_RATE)\n",
    "\n",
    "    num_training_steps = EPOCHS * len(train_set)\n",
    "    lr_scheduler = get_scheduler(\n",
    "        \"linear\",\n",
    "        optimizer=optimizer,\n",
    "        num_warmup_steps=0,\n",
    "        num_training_steps=num_training_steps,\n",
    "    )\n",
    "\n",
    "    progress_bar = tqdm(total=num_training_steps, desc=f\"Fold {fold}\")\n",
    "    train_losses = []\n",
    "    val_losses = []\n",
    "    for epoch in range(EPOCHS):\n",
    "        # Run training\n",
    "        epoch_train_loss = train(train_set, optimizer, lr_scheduler, progress_bar)\n",
    "        # Run validation\n",
    "        epoch_val_loss, y_pred_val, y_true_val = validate(val_set)\n",
    "        # Losses\n",
    "        train_losses.append(epoch_train_loss)\n",
    "        val_losses.append(epoch_val_loss)\n",
    "        # F1 score\n",
    "        fold_f1_score = f1_score(y_true_val, y_pred_val, average=\"macro\") \n",
    "        print(f\"Epoch {epoch + 1}/{EPOCHS:<5} | Train Loss: {epoch_train_loss:<10.4f} | Val Loss: {epoch_val_loss:<10.4f} | F1 Score: {fold_f1_score:.4f}\")\n",
    "        \n",
    "    progress_bar.close()\n",
    "\n",
    "    # Save model\n",
    "    model.save_pretrained(models_path + f\"fold_{fold}\")\n",
    "    \n",
    "    cross_train_losses.append(train_losses)\n",
    "    cross_val_losses.append(val_losses)\n",
    "    cross_val_f1_scores.append(fold_f1_score)"
   ]
  },
  {
   "cell_type": "code",
   "execution_count": 28,
   "metadata": {},
   "outputs": [
    {
     "data": {
      "image/png": "[encoded data removed]",
      "text/plain": [
       "<Figure size 1500x500 with 2 Axes>"
      ]
     },
     "metadata": {},
     "output_type": "display_data"
    }
   ],
   "source": [
    "# Plot all fold training and validation losses\n",
    "plt.figure(figsize=(15, 5))\n",
    "for i in range(5):\n",
    "    plt.subplot(1, 2, 1)\n",
    "    plt.plot(cross_train_losses[i], label=f\"Fold {i}\")\n",
    "    plt.title(\"Training loss\")\n",
    "    plt.subplot(1, 2, 2)\n",
    "    plt.plot(cross_val_losses[i], label=f\"Fold {i}\")\n",
    "    plt.title(\"Validation loss\")\n",
    "plt.legend()\n",
    "plt.show()"
   ]
  },
  {
   "cell_type": "markdown",
   "metadata": {},
   "source": [
    "The plots show the evolution of training loss (left) and validation loss (right) over the course of training across five folds.\n",
    "\n",
    "1. Training Loss:\n",
    "\n",
    "The training loss consistently decreases across all folds, indicating that the model is successfully learning from the data.\n",
    "A sharp drop in loss occurs within the first epoch, after which the decline becomes more gradual.\n",
    "The similarity in loss trends across folds suggests a stable learning process where the model continues refining its parametes while converging.\n",
    "\n",
    "2. Validation Loss:\n",
    "\n",
    "The validation loss behaves less uniformly across folds compared to the training loss.\n",
    "Some folds exhibit a steady decrease (Fold 0 and Fold 4), indicating good generalization.\n",
    "Other folds, such as Fold 2 and Fold 3, show fluctuations, suggesting potential overfitting or variations in the difficulty of different validation subsets.\n",
    "The variance in validation loss among folds highlights the importance of cross-validation, as individual folds may present different challenges for the model."
   ]
  },
  {
   "cell_type": "code",
   "execution_count": null,
   "metadata": {},
   "outputs": [
    {
     "name": "stdout",
     "output_type": "stream",
     "text": [
      "Train dataloader length: 252\n",
      "Test dataloader length: 27\n"
     ]
    }
   ],
   "source": [
    "from torch.utils.data import DataLoader\n",
    "\n",
    "train_dataloader = DataLoader(\n",
    "    tokenized_datasets[\"train\"], shuffle=True, batch_size=8, collate_fn=data_collator\n",
    ")\n",
    "test_dataloader = DataLoader(\n",
    "    tokenized_datasets[\"test\"], shuffle=False, batch_size=8, collate_fn=data_collator\n",
    ")\n",
    "\n",
    "print(\"Train dataloader length:\", len(train_dataloader))\n",
    "print(\"Test dataloader length:\", len(test_dataloader))"
   ]
  },
  {
   "cell_type": "code",
   "execution_count": 29,
   "metadata": {},
   "outputs": [
    {
     "name": "stdout",
     "output_type": "stream",
     "text": [
      "Cross-Validation Mean Macro F1 Score: 0.9832\n"
     ]
    }
   ],
   "source": [
    "# Cross validation Mean F1 score\n",
    "mean_f1_score = np.mean(cross_val_f1_scores)\n",
    "print(f\"Cross-Validation Mean Macro F1 Score: {mean_f1_score:.4f}\")"
   ]
  },
  {
   "cell_type": "markdown",
   "metadata": {},
   "source": [
    "Moreover, we used the F1 score to evaluate the performance of our classification model. This metric balances two key aspects:\n",
    "\n",
    "- Precision: How many of the predicted positive cases are actually correct.\n",
    "- Recall: How many of the actual positive cases did the model successfully detect.\n",
    "\n",
    "By combining these two elements into a single value, the F1 Score provides a measure of a model’s overall performance. The higher the F1 Score, the better the model’s performance, as it indicates both accuracy in predictions and success in detecting relevant cases.\n",
    "\n",
    "In this context, the model obtained an F1 score of 0.9832 during training with 5-fold cross-validation, ensuring that its performance was consistently evaluated across multiple subsets of the data. This high score indicates that the model is excellent at making accurate decisions for the proposed classification task"
   ]
  },
  {
   "cell_type": "markdown",
   "metadata": {},
   "source": [
    "---"
   ]
  },
  {
   "cell_type": "markdown",
   "metadata": {},
   "source": [
    "## Test Evaluation"
   ]
  },
  {
   "cell_type": "markdown",
   "metadata": {},
   "source": [
    "The following results reflect the performance of the document classifier on the test set. The model's performance is evaluated using precision, recall, f1-score, and accuracy metrics, as well as a confusion matrix."
   ]
  },
  {
   "cell_type": "code",
   "execution_count": 30,
   "metadata": {},
   "outputs": [
    {
     "data": {
      "text/plain": [
       "BertForSequenceClassification(\n",
       "  (bert): BertModel(\n",
       "    (embeddings): BertEmbeddings(\n",
       "      (word_embeddings): Embedding(30522, 768, padding_idx=0)\n",
       "      (position_embeddings): Embedding(512, 768)\n",
       "      (token_type_embeddings): Embedding(2, 768)\n",
       "      (LayerNorm): LayerNorm((768,), eps=1e-12, elementwise_affine=True)\n",
       "      (dropout): Dropout(p=0.1, inplace=False)\n",
       "    )\n",
       "    (encoder): BertEncoder(\n",
       "      (layer): ModuleList(\n",
       "        (0-11): 12 x BertLayer(\n",
       "          (attention): BertAttention(\n",
       "            (self): BertSdpaSelfAttention(\n",
       "              (query): Linear(in_features=768, out_features=768, bias=True)\n",
       "              (key): Linear(in_features=768, out_features=768, bias=True)\n",
       "              (value): Linear(in_features=768, out_features=768, bias=True)\n",
       "              (dropout): Dropout(p=0.1, inplace=False)\n",
       "            )\n",
       "            (output): BertSelfOutput(\n",
       "              (dense): Linear(in_features=768, out_features=768, bias=True)\n",
       "              (LayerNorm): LayerNorm((768,), eps=1e-12, elementwise_affine=True)\n",
       "              (dropout): Dropout(p=0.1, inplace=False)\n",
       "            )\n",
       "          )\n",
       "          (intermediate): BertIntermediate(\n",
       "            (dense): Linear(in_features=768, out_features=3072, bias=True)\n",
       "            (intermediate_act_fn): GELUActivation()\n",
       "          )\n",
       "          (output): BertOutput(\n",
       "            (dense): Linear(in_features=3072, out_features=768, bias=True)\n",
       "            (LayerNorm): LayerNorm((768,), eps=1e-12, elementwise_affine=True)\n",
       "            (dropout): Dropout(p=0.1, inplace=False)\n",
       "          )\n",
       "        )\n",
       "      )\n",
       "    )\n",
       "    (pooler): BertPooler(\n",
       "      (dense): Linear(in_features=768, out_features=768, bias=True)\n",
       "      (activation): Tanh()\n",
       "    )\n",
       "  )\n",
       "  (dropout): Dropout(p=0.1, inplace=False)\n",
       "  (classifier): Linear(in_features=768, out_features=5, bias=True)\n",
       ")"
      ]
     },
     "execution_count": 30,
     "metadata": {},
     "output_type": "execute_result"
    }
   ],
   "source": [
    "# Load best model\n",
    "model = AutoModelForSequenceClassification.from_pretrained(models_path + \"fold_4\")\n",
    "model.to(device)"
   ]
  },
  {
   "cell_type": "code",
   "execution_count": 31,
   "metadata": {},
   "outputs": [
    {
     "name": "stdout",
     "output_type": "stream",
     "text": [
      "(210,) (210,)\n",
      "               precision    recall  f1-score   support\n",
      "\n",
      "     business       1.00      0.98      0.99        50\n",
      "entertainment       1.00      1.00      1.00        30\n",
      "     politics       0.98      1.00      0.99        40\n",
      "       sports       1.00      1.00      1.00        50\n",
      "         tech       1.00      1.00      1.00        40\n",
      "\n",
      "     accuracy                           1.00       210\n",
      "    macro avg       1.00      1.00      1.00       210\n",
      " weighted avg       1.00      1.00      1.00       210\n",
      "\n"
     ]
    }
   ],
   "source": [
    "model.eval()\n",
    "\n",
    "y_pred_test = []\n",
    "y_true_test = []\n",
    "with torch.no_grad(): \n",
    "    for batch in test_dataloader:\n",
    "        batch = {k: v.to(device) for k, v in batch.items()}\n",
    "        outputs = model(**batch)\n",
    "        y_pred_test.extend(torch.argmax(outputs.logits, dim=-1).tolist())\n",
    "        y_true_test.extend(batch[\"labels\"].tolist())\n",
    "\n",
    "y_pred_test = np.array(y_pred_test)\n",
    "y_true_test = np.array(y_true_test)\n",
    "print(y_pred_test.shape, y_true_test.shape)\n",
    "\n",
    "print(classification_report(y_true_test, y_pred_test, target_names=class_names))"
   ]
  },
  {
   "cell_type": "markdown",
   "metadata": {},
   "source": [
    "As seen above, the model performs exceptionally well with minimal errors. The only misclassifications occurred between business and politics, which may suggest a minimal overlap or similarity between these two classes. Overall, the classifier demonstrates high accuracy and robustness across the dataset, obtaining almost perfect scores in all metrics."
   ]
  },
  {
   "cell_type": "code",
   "execution_count": 32,
   "metadata": {},
   "outputs": [
    {
     "data": {
      "image/png": "[encoded data removed]",
      "text/plain": [
       "<Figure size 640x480 with 2 Axes>"
      ]
     },
     "metadata": {},
     "output_type": "display_data"
    }
   ],
   "source": [
    "# Confusion matrix\n",
    "disp = ConfusionMatrixDisplay.from_predictions(y_true_test, y_pred_test, display_labels=id2label.values(), xticks_rotation=30, cmap=plt.cm.Blues)"
   ]
  },
  {
   "cell_type": "markdown",
   "metadata": {},
   "source": [
    "Regarding the confusion matrix, the results confirm the quantitative metrics. Only 1 missclassification occured, where a business documents was incorrectly labeled as politics. Nonetheless, no other confusion between categories is observed, indicating clear classification between boundaries."
   ]
  },
  {
   "cell_type": "markdown",
   "metadata": {},
   "source": [
    "In conclusion, the classifier performs with near-perfect accuracy, demosntrating its ability to distinguish between the five document categories effectively. The minor misclassification suggests that the model could benefit from slight improvements in distinguishing between business and politics, potentially by enhancing feature representations or adding more training examples to address subtle overlaps. However, the overall performance suggests the model is robust and reliable"
   ]
  }
 ],
 "metadata": {
  "kernelspec": {
   "display_name": "AI",
   "language": "python",
   "name": "python3"
  },
  "language_info": {
   "codemirror_mode": {
    "name": "ipython",
    "version": 3
   },
   "file_extension": ".py",
   "mimetype": "text/x-python",
   "name": "python",
   "nbconvert_exporter": "python",
   "pygments_lexer": "ipython3",
   "version": "3.10.16"
  }
 },
 "nbformat": 4,
 "nbformat_minor": 2
}
