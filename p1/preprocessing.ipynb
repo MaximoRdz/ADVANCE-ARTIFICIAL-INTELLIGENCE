{
 "cells": [
  {
   "cell_type": "markdown",
   "metadata": {},
   "source": [
    "## Dataset\n",
    "\n",
    "For this practice, a dataset consisting of five files has been provided, each corresponding to a different driver (Driver1-5). For each driver, there are five Excel files containing data collected during the execution of five different driving maneuvers:\n",
    "- Overtaking.\n",
    "- Stopping.\n",
    "- Turning.\n",
    "- Three-step turn.\n",
    "- U-turn.\n",
    "\n",
    "Each file follows a uniform format, where each row represents a time instance, and each column stores the value of a signal recorded at that moment. A total of 22 different signals have been collected, although only the following will be used in this practice:\n",
    "- Speed – Vehicle speed.\n",
    "- RPM – Revolutions per minute.\n",
    "- Steering Wheel Angle – Steering wheel angle.\n",
    "- Gas Pedal – Accelerator pedal.\n",
    "- Brake Pedal – Brake pedal.\n",
    "- Clutch Pedal – Clutch pedal.\n",
    "- Gear – Gear position.\n",
    "\n",
    "Additionally, the \"Maneuver Marker Flag\" column indicates the execution of a maneuver at each time instance. Its value is 1 when the corresponding maneuver is in progress and 0 when it is not.\n",
    "It is worth noting that the data has a high sampling frequency, recording values 20 times per second for each driver and maneuver."
   ]
  },
  {
   "cell_type": "markdown",
   "metadata": {},
   "source": [
    "## Preprocessing\n",
    "\n",
    "To generate the final dataset, several modifications have been applied to the provided data:\n",
    "\n",
    "- Eight new attributes have been added using sliding windows to incorporate data from previous instances:\n",
    "\n",
    "    - **speed_mean** and **speed_std**: Mean and standard deviation of speed over the last window_size instances.\n",
    "\n",
    "    - **RPM_mean** and **RPM_std**: Mean and standard deviation of RPM over the last window_size instances.\n",
    "\n",
    "    - **brake_mea** and **brake_std**: Mean and standard deviation of brake usage over the last window_size instances.\n",
    "    \n",
    "    - **gas_mean** and **gas_std**: Mean and standard deviation of accelerator usage over the last window_size instances.\n",
    "\n",
    "- The target label is set as the 'Maneuver Marker Flag' of the next instance, as the objective is to predict whether the maneuver is about to occur."
   ]
  }
 ],
 "metadata": {
  "language_info": {
   "name": "python"
  }
 },
 "nbformat": 4,
 "nbformat_minor": 2
}
